{
  "cells": [
    {
      "cell_type": "markdown",
      "metadata": {
        "id": "tXtOcPOz-1UV"
      },
      "source": [
        "# Regression Model on Attended Features.ipynb\n",
        "\n",
        "---\n",
        "\n",
        "* Table of contents\n",
        "  * Creating the environment\n",
        "  * Preprocessing the data\n",
        "  * Preparing the data\n",
        "  * Training the model\n",
        "  * Evaluating the performance measure\n",
        "  * Performing OCR within bounding box\n",
        "\n",
        "* Resources ~ \n",
        "  * https://github.com/Cyanogenoid/pytorch-vqa\n",
        "  * https://github.com/Cyanogenoid/vqa-counting/tree/master/vqa-v2"
      ]
    },
    {
      "cell_type": "markdown",
      "source": [
        "### Creating the environment\n",
        "---"
      ],
      "metadata": {
        "id": "GAxCzZG_Spc_"
      }
    },
    {
      "cell_type": "code",
      "source": [
        "from google.colab import drive\n",
        "drive.mount('/content/drive')"
      ],
      "metadata": {
        "colab": {
          "base_uri": "https://localhost:8080/"
        },
        "id": "58iGiJGMRS3R",
        "outputId": "89e41475-438d-4dcb-822f-54c2364973c2"
      },
      "execution_count": null,
      "outputs": [
        {
          "output_type": "stream",
          "name": "stdout",
          "text": [
            "Mounted at /content/drive\n"
          ]
        }
      ]
    },
    {
      "cell_type": "code",
      "execution_count": null,
      "metadata": {
        "colab": {
          "base_uri": "https://localhost:8080/"
        },
        "id": "grTKwGzB-1Un",
        "outputId": "072b04b5-7043-40ea-be30-627e774e0924"
      },
      "outputs": [
        {
          "output_type": "stream",
          "name": "stdout",
          "text": [
            "Looking in indexes: https://pypi.org/simple, https://us-python.pkg.dev/colab-wheels/public/simple/\n",
            "Requirement already satisfied: Pillow==9.0.0 in /usr/local/lib/python3.7/dist-packages (9.0.0)\n"
          ]
        }
      ],
      "source": [
        "# Upgrade pillow to latest version to resolve an attribute issue when importing model\n",
        "! pip install Pillow==9.0.0"
      ]
    },
    {
      "cell_type": "code",
      "execution_count": null,
      "metadata": {
        "id": "EJEEz7oa-1Uo"
      },
      "outputs": [],
      "source": [
        "import os, sys\n",
        "import warnings\n",
        "import pandas as pd\n",
        "import numpy as np\n",
        "from matplotlib import pyplot as plt\n",
        "warnings.filterwarnings(\"ignore\", category=UserWarning)"
      ]
    },
    {
      "cell_type": "markdown",
      "metadata": {
        "id": "iuZbFQdD-1Up"
      },
      "source": [
        "#### Download the Prebuilt VQA model and Weights"
      ]
    },
    {
      "cell_type": "code",
      "execution_count": null,
      "metadata": {
        "id": "SoEdKx5h-1Uq"
      },
      "outputs": [],
      "source": [
        "if not os.path.isfile('./pytorch-vqa/README.md'):\n",
        "    !git clone https://github.com/Cyanogenoid/pytorch-vqa.git\n",
        "sys.path.append(os.path.realpath('./pytorch-vqa'))"
      ]
    },
    {
      "cell_type": "markdown",
      "source": [
        "#### Accelerating with CUDA"
      ],
      "metadata": {
        "id": "GXqe03nCQC0f"
      }
    },
    {
      "cell_type": "code",
      "execution_count": null,
      "metadata": {
        "id": "e20SlrdZ-1Us"
      },
      "outputs": [],
      "source": [
        "try: \n",
        "    import torch\n",
        "except:\n",
        "    from wheel.pep425tags import get_abbr_impl, get_impl_ver, get_abi_tag\n",
        "    platform = '{}{}-{}'.format(get_abbr_impl(), get_impl_ver(), get_abi_tag())\n",
        "    accelerator = 'cu80' if os.path.exists('/opt/bin/nvidia-smi') else 'cpu'\n",
        "    !pip install -q \\\n",
        "      http://download.pytorch.org/whl/{accelerator}/torch-0.4.1-{platform}-linux_x86_64.whl \\\n",
        "      torchvision"
      ]
    },
    {
      "cell_type": "code",
      "execution_count": null,
      "metadata": {
        "scrolled": true,
        "id": "wOJBNPed-1Ut"
      },
      "outputs": [],
      "source": [
        "import torch\n",
        "use_cuda = torch.cuda.is_available()\n",
        "device = torch.device(\"cuda\" if use_cuda else \"cpu\")"
      ]
    },
    {
      "cell_type": "code",
      "execution_count": null,
      "metadata": {
        "colab": {
          "base_uri": "https://localhost:8080/"
        },
        "id": "aPG4znyH-1Uu",
        "outputId": "4cf55f81-a479-4844-f268-6b026f8a3ca1"
      },
      "outputs": [
        {
          "output_type": "execute_result",
          "data": {
            "text/plain": [
              "dict_keys(['name', 'tracker', 'config', 'weights', 'eval', 'vocab'])"
            ]
          },
          "metadata": {},
          "execution_count": 8
        }
      ],
      "source": [
        "import importlib.util\n",
        "\n",
        "MODULE_PATH = \"/content/pytorch-vqa/model.py\"\n",
        "MODULE_NAME = \"model\"\n",
        "\n",
        "spec = importlib.util.spec_from_file_location(MODULE_NAME, MODULE_PATH)\n",
        "model = importlib.util.module_from_spec(spec)\n",
        "spec.loader.exec_module(model)\n",
        "saved_state = torch.load('/content/drive/MyDrive/DVQA/SAN-DVQA/2022-06-23_13:00:45.pth', map_location=device)\n",
        "tokens = len(saved_state['vocab']['question']) + 1\n",
        "saved_state.keys()"
      ]
    },
    {
      "cell_type": "code",
      "execution_count": null,
      "metadata": {
        "scrolled": false,
        "colab": {
          "base_uri": "https://localhost:8080/"
        },
        "id": "xzpjBBfC-1Uv",
        "outputId": "4b0516a9-c572-4267-825a-08306073a872"
      },
      "outputs": [
        {
          "output_type": "execute_result",
          "data": {
            "text/plain": [
              "DataParallel(\n",
              "  (module): Net(\n",
              "    (text): TextProcessor(\n",
              "      (embedding): Embedding(1126, 300, padding_idx=0)\n",
              "      (drop): Dropout(p=0.5, inplace=False)\n",
              "      (tanh): Tanh()\n",
              "      (lstm): LSTM(300, 1024)\n",
              "    )\n",
              "    (attention): Attention(\n",
              "      (v_conv): Conv2d(2048, 512, kernel_size=(1, 1), stride=(1, 1), bias=False)\n",
              "      (q_lin): Linear(in_features=1024, out_features=512, bias=True)\n",
              "      (x_conv): Conv2d(512, 2, kernel_size=(1, 1), stride=(1, 1))\n",
              "      (drop): Dropout(p=0.5, inplace=False)\n",
              "      (relu): ReLU(inplace=True)\n",
              "    )\n",
              "    (classifier): Classifier(\n",
              "      (drop1): Dropout(p=0.5, inplace=False)\n",
              "      (lin1): Linear(in_features=5120, out_features=1024, bias=True)\n",
              "      (relu): ReLU()\n",
              "      (drop2): Dropout(p=0.5, inplace=False)\n",
              "      (lin2): Linear(in_features=1024, out_features=27, bias=True)\n",
              "    )\n",
              "  )\n",
              ")"
            ]
          },
          "metadata": {},
          "execution_count": 9
        }
      ],
      "source": [
        "# Loading the model with weights\n",
        "vqa_net = torch.nn.DataParallel(model.Net(tokens))\n",
        "vqa_net.load_state_dict(saved_state['weights'])\n",
        "vqa_net.to(device)\n",
        "vqa_net.eval()"
      ]
    },
    {
      "cell_type": "code",
      "source": [
        "if not os.path.isfile('./pytorch-resnet/README.md'):\n",
        "    !git clone https://github.com/Cyanogenoid/pytorch-resnet.git\n",
        "sys.path.append(os.path.realpath('./pytorch-resnet'))"
      ],
      "metadata": {
        "colab": {
          "base_uri": "https://localhost:8080/"
        },
        "id": "MMTV38ZInJ0F",
        "outputId": "35824447-5a8c-4717-c88f-25fbb55633ac"
      },
      "execution_count": null,
      "outputs": [
        {
          "output_type": "stream",
          "name": "stdout",
          "text": [
            "Cloning into 'pytorch-resnet'...\n",
            "remote: Enumerating objects: 28, done.\u001b[K\n",
            "remote: Total 28 (delta 0), reused 0 (delta 0), pack-reused 28\u001b[K\n",
            "Unpacking objects: 100% (28/28), done.\n"
          ]
        }
      ]
    },
    {
      "cell_type": "code",
      "execution_count": null,
      "metadata": {
        "scrolled": true,
        "id": "seQf1qLO-1Ux",
        "outputId": "c8b5a1b8-d76a-4ea2-f4e4-8f8191cb7eb5",
        "colab": {
          "base_uri": "https://localhost:8080/",
          "height": 86,
          "referenced_widgets": [
            "34751bdafa71401ca551f503c2b1ec6c",
            "375e84373d5648128295bc897b9e447f",
            "5ff184b1b4a5477ea7b7cc9c1a46b9d0",
            "b8c4ef4e733a4471a1db308f7f11ef88",
            "d43396bf4ae9485fbef5ffda7f8a0bc9",
            "07d42b0dba2a4dddb9a772a866501031",
            "01f0b81603f74b139c4ab27e9add0748",
            "4c27f67707774ebc9a5cbb0f0ddc3172",
            "70f2c63840ac456591d3711e0f8629eb",
            "3ec670360a5143709f437e12b1d1aeed",
            "bdb7cbc7fabf4f94b20ccc736baf0d46"
          ]
        }
      },
      "outputs": [
        {
          "output_type": "stream",
          "name": "stderr",
          "text": [
            "Downloading: \"https://github.com/Cyanogenoid/pytorch-resnet/releases/download/hosting/resnet152-95e0e999.pth\" to /root/.cache/torch/hub/checkpoints/resnet152-95e0e999.pth\n"
          ]
        },
        {
          "output_type": "display_data",
          "data": {
            "text/plain": [
              "  0%|          | 0.00/230M [00:00<?, ?B/s]"
            ],
            "application/vnd.jupyter.widget-view+json": {
              "version_major": 2,
              "version_minor": 0,
              "model_id": "34751bdafa71401ca551f503c2b1ec6c"
            }
          },
          "metadata": {}
        }
      ],
      "source": [
        "import importlib.util\n",
        "\n",
        "MODULE_PATH = \"/content/pytorch-vqa/resnet/resnet.py\"\n",
        "MODULE_NAME = \"resnet\"\n",
        "\n",
        "spec = importlib.util.spec_from_file_location(MODULE_NAME, MODULE_PATH)\n",
        "resnet = importlib.util.module_from_spec(spec)\n",
        "spec.loader.exec_module(resnet)\n",
        "\n",
        "from PIL import Image\n",
        "import torchvision.transforms as transforms\n",
        "\n",
        "def get_transform(target_size, central_fraction=1.0):\n",
        "    return transforms.Compose([\n",
        "        transforms.Resize(int(target_size / central_fraction)),\n",
        "        transforms.CenterCrop(target_size),\n",
        "        transforms.ToTensor(),\n",
        "        transforms.Normalize(mean=[0.485, 0.456, 0.406],\n",
        "                             std=[0.229, 0.224, 0.225]),\n",
        "    ])\n",
        "\n",
        "class ResNetLayer4(torch.nn.Module):\n",
        "    def __init__(self):\n",
        "        super(ResNetLayer4, self).__init__()\n",
        "        self.model = resnet.resnet152(pretrained=True)\n",
        "        \n",
        "        # from  visual_qa_analysis/config.py\n",
        "        image_size = 384  # scale shorter end of image to this size and centre crop\n",
        "        #output_size = image_size // 32  # size of the feature maps after processing through a network\n",
        "        output_features = 2048  # number of feature maps thereof\n",
        "        central_fraction = 0.875 # only take this much of the centre when scaling and centre cropping\n",
        "\n",
        "        self.transform = get_transform(image_size, central_fraction)\n",
        "\n",
        "        def save_output(module, input, output):\n",
        "            self.buffer = output\n",
        "        self.model.layer4.register_forward_hook(save_output)\n",
        "\n",
        "    def forward(self, x):\n",
        "        self.model(x)\n",
        "        return self.buffer\n",
        "    \n",
        "    def image_to_features(self, img_file):\n",
        "        img = Image.open(img_file).convert('RGB')\n",
        "        img_transformed = self.transform(img)\n",
        "        #print(img_transformed.size())\n",
        "        img_batch = img_transformed.unsqueeze(0).to(device)\n",
        "        return self.forward(img_batch) \n",
        "    \n",
        "resnet_layer4 = ResNetLayer4().to(device)  # Downloads 241Mb model when first run"
      ]
    },
    {
      "cell_type": "markdown",
      "metadata": {
        "id": "Wc6oq3dD-1Uy"
      },
      "source": [
        "> Taking a look at the vocab of the model ~"
      ]
    },
    {
      "cell_type": "code",
      "execution_count": null,
      "metadata": {
        "scrolled": true,
        "colab": {
          "base_uri": "https://localhost:8080/"
        },
        "id": "TD53fIiI-1Uz",
        "outputId": "ebbe4719-588f-4646-d3c8-6d2dc09589f3"
      },
      "outputs": [
        {
          "output_type": "execute_result",
          "data": {
            "text/plain": [
              "[('the', 1), ('in', 2), ('of', 3), ('is', 4), ('how', 5)]"
            ]
          },
          "metadata": {},
          "execution_count": 12
        }
      ],
      "source": [
        "vocab = saved_state['vocab']\n",
        "vocab.keys()  # dict_keys(['question', 'answer'])\n",
        "list(vocab['question'].items())[:5]"
      ]
    },
    {
      "cell_type": "code",
      "execution_count": null,
      "metadata": {
        "id": "ySS8yUKW-1Uz"
      },
      "outputs": [],
      "source": [
        "qtoken_to_index = vocab['question']\n",
        "QUESTION_LENGTH_MAX = 30 # say...\n",
        "    \n",
        "def encode_question(question_str):\n",
        "    \"\"\" Turn a question into a vector of indices and a question length \"\"\"\n",
        "    question_arr = question_str.lower().split(' ')\n",
        "    #vec = torch.zeros(QUESTION_LENGTH_MAX).long()\n",
        "    vec = torch.zeros(len(question_arr)).long()  \n",
        "    for i, token in enumerate(question_arr):\n",
        "        vec[i] = qtoken_to_index.get(token, 0)\n",
        "    return vec.to(device), torch.tensor( len(question_arr) ).to(device)"
      ]
    },
    {
      "cell_type": "code",
      "execution_count": null,
      "metadata": {
        "colab": {
          "base_uri": "https://localhost:8080/"
        },
        "id": "WfYNTgWK-1Uz",
        "outputId": "f5e64906-9e81-4e38-f707-05005405a71c"
      },
      "outputs": [
        {
          "output_type": "execute_result",
          "data": {
            "text/plain": [
              "[('e', 0), ('o', 1), ('n', 2), ('s', 3), ('y', 4)]"
            ]
          },
          "metadata": {},
          "execution_count": 14
        }
      ],
      "source": [
        "list(vocab['answer'].items())[:5]"
      ]
    },
    {
      "cell_type": "code",
      "execution_count": null,
      "metadata": {
        "colab": {
          "base_uri": "https://localhost:8080/"
        },
        "id": "zh4_MIib-1Uz",
        "outputId": "fec771de-7bcc-43b5-8d30-98f8eeb71c5d"
      },
      "outputs": [
        {
          "output_type": "execute_result",
          "data": {
            "text/plain": [
              "(27, ['e', 'o', 'n', 's', 'y', '0', '1', 'r', '9', 't'])"
            ]
          },
          "metadata": {},
          "execution_count": 15
        }
      ],
      "source": [
        "answer_words = ['UNDEF'] * len(vocab['answer'])\n",
        "for w,idx in vocab['answer'].items():\n",
        "    answer_words[idx]=w\n",
        "len(answer_words), answer_words[:10]"
      ]
    },
    {
      "cell_type": "markdown",
      "metadata": {
        "id": "-eMlE0X2-1U0"
      },
      "source": [
        "### Preprocessing the data\n",
        "---"
      ]
    },
    {
      "cell_type": "code",
      "source": [
        "!mkdir images"
      ],
      "metadata": {
        "id": "doz8Zt0vS5-R"
      },
      "execution_count": null,
      "outputs": []
    },
    {
      "cell_type": "code",
      "source": [
        "!unzip '/content/drive/MyDrive/DVQA/images/train.zip' -d '/content/images'\n",
        "!unzip '/content/drive/MyDrive/DVQA/images/val.zip' -d '/content/images'\n",
        "!unzip '/content/drive/MyDrive/DVQA/images/test.zip' -d '/content/images'"
      ],
      "metadata": {
        "id": "yHrAHwCvS872"
      },
      "execution_count": null,
      "outputs": []
    },
    {
      "cell_type": "markdown",
      "source": [
        "#### For train"
      ],
      "metadata": {
        "id": "-qjJZjJsSc_6"
      }
    },
    {
      "cell_type": "code",
      "source": [
        "import json\n",
        "import pandas as pd\n",
        "\n",
        "json_file_path = \"/content/drive/MyDrive/DVQA/question-answer/qa_ocr/train.json\"\n",
        "\n",
        "with open(json_file_path, 'r') as j:\n",
        "     contents = json.loads(j.read())\n",
        "\n",
        "dft = pd.DataFrame(contents)"
      ],
      "metadata": {
        "id": "gNAP30rWjt5k"
      },
      "execution_count": null,
      "outputs": []
    },
    {
      "cell_type": "code",
      "source": [
        "def AttendedFeatures(row):\n",
        "    img = '/content/images/train/' + row['image']\n",
        "    feature_image = resnet_layer4.image_to_features(img)\n",
        "    ques, ques_len = encode_question(row['question'])\n",
        "    ans = vqa_net(feature_image, ques.unsqueeze(0), ques_len.unsqueeze(0))\n",
        "    return (ans.cpu().detach().numpy())\n",
        "train_attended = dft.assign(attended_features=dft.apply(AttendedFeatures, axis=1))\n",
        "train_attended.head()"
      ],
      "metadata": {
        "id": "NOb7Lcmi_Cdw"
      },
      "execution_count": null,
      "outputs": []
    },
    {
      "cell_type": "code",
      "source": [
        "out = train_attended.to_json(orient = 'records')\n",
        "with open('/content/drive/MyDrive/DVQA/question-answer/qa_attended_features/train.json', 'w') as f:\n",
        "  f.write(out)"
      ],
      "metadata": {
        "id": "gtWe_WNS_Cdx"
      },
      "execution_count": null,
      "outputs": []
    },
    {
      "cell_type": "markdown",
      "source": [
        "#### For validation"
      ],
      "metadata": {
        "id": "rN_huObg42bO"
      }
    },
    {
      "cell_type": "code",
      "source": [
        "import json\n",
        "import pandas as pd\n",
        "\n",
        "json_file_path = \"/content/drive/MyDrive/DVQA/question-answer/qa_ocr/val.json\"\n",
        "\n",
        "with open(json_file_path, 'r') as j:\n",
        "     contents = json.loads(j.read())\n",
        "\n",
        "dft = pd.DataFrame(contents)"
      ],
      "metadata": {
        "id": "X4Os9BAu42bP"
      },
      "execution_count": null,
      "outputs": []
    },
    {
      "cell_type": "code",
      "source": [
        "def AttendedFeatures(row):\n",
        "    img = '/content/images/val/' + row['image']\n",
        "    feature_image = resnet_layer4.image_to_features(img)\n",
        "    ques, ques_len = encode_question(row['question'])\n",
        "    ans = vqa_net(feature_image, ques.unsqueeze(0), ques_len.unsqueeze(0))\n",
        "    return (ans.cpu().detach().numpy())\n",
        "val_attended = dft.assign(attended_features=dft.apply(AttendedFeatures, axis=1))\n",
        "val_attended.head()"
      ],
      "metadata": {
        "id": "_-K3mkIJ42bQ"
      },
      "execution_count": null,
      "outputs": []
    },
    {
      "cell_type": "code",
      "source": [
        "out = val_attended.to_json(orient = 'records')\n",
        "with open('/content/drive/MyDrive/DVQA/question-answer/qa_attended_features/val.json', 'w') as f:\n",
        "  f.write(out)"
      ],
      "metadata": {
        "id": "WmIPC3gm42bQ"
      },
      "execution_count": null,
      "outputs": []
    },
    {
      "cell_type": "markdown",
      "source": [
        "#### For test"
      ],
      "metadata": {
        "id": "QV0sVZ9-42jL"
      }
    },
    {
      "cell_type": "code",
      "source": [
        "import json\n",
        "import pandas as pd\n",
        "\n",
        "json_file_path = \"/content/drive/MyDrive/DVQA/question-answer/qa_ocr/test.json\"\n",
        "\n",
        "with open(json_file_path, 'r') as j:\n",
        "     contents = json.loads(j.read())\n",
        "\n",
        "dft = pd.DataFrame(contents)"
      ],
      "metadata": {
        "id": "MeMSywd642jM"
      },
      "execution_count": null,
      "outputs": []
    },
    {
      "cell_type": "code",
      "source": [
        "def AttendedFeatures(row):\n",
        "    img = '/content/images/test/' + row['image']\n",
        "    feature_image = resnet_layer4.image_to_features(img)\n",
        "    ques, ques_len = encode_question(row['question'])\n",
        "    ans = vqa_net(feature_image, ques.unsqueeze(0), ques_len.unsqueeze(0))\n",
        "    return (ans.cpu().detach().numpy())\n",
        "test_attended = dft.assign(attended_features=dft.apply(AttendedFeatures, axis=1))\n",
        "test_attended.head()"
      ],
      "metadata": {
        "id": "ka7r8jGV42jM"
      },
      "execution_count": null,
      "outputs": []
    },
    {
      "cell_type": "code",
      "source": [
        "out = test_attended.to_json(orient = 'records')\n",
        "with open('/content/drive/MyDrive/DVQA/question-answer/qa_attended_features/train_2.json', 'w') as f:\n",
        "  f.write(out)"
      ],
      "metadata": {
        "id": "rxRBnxq642jM"
      },
      "execution_count": null,
      "outputs": []
    },
    {
      "cell_type": "markdown",
      "metadata": {
        "id": "lhGYNaGp5a5Z"
      },
      "source": [
        "### Preparing the data\n",
        "---"
      ]
    },
    {
      "cell_type": "markdown",
      "source": [
        "#### For train"
      ],
      "metadata": {
        "id": "oFSkZM7BFUtd"
      }
    },
    {
      "cell_type": "code",
      "source": [
        "import json\n",
        "import pandas as pd\n",
        "\n",
        "json_file_path = \"/content/drive/MyDrive/DVQA/question-answer/qa_attended_features/train.json\"\n",
        "\n",
        "with open(json_file_path, 'r') as j:\n",
        "     contents = json.loads(j.read())\n",
        "\n",
        "dtrain = pd.DataFrame(contents)"
      ],
      "metadata": {
        "id": "ehHvKVqV6qxg"
      },
      "execution_count": null,
      "outputs": []
    },
    {
      "cell_type": "code",
      "source": [
        "import numpy as np\n",
        "X_train = dtrain['attended_features'].str[0]\n",
        "train = []\n",
        "for i in X_train:\n",
        "  train.append(i)\n",
        "X_train = np.array(train)"
      ],
      "metadata": {
        "id": "BR-fMhwy7MuP"
      },
      "execution_count": null,
      "outputs": []
    },
    {
      "cell_type": "code",
      "source": [
        "X_train"
      ],
      "metadata": {
        "colab": {
          "base_uri": "https://localhost:8080/"
        },
        "id": "QdFPWd9e7N9W",
        "outputId": "f9c4a4cc-8138-4345-90b0-c7fbba115e23"
      },
      "execution_count": null,
      "outputs": [
        {
          "output_type": "execute_result",
          "data": {
            "text/plain": [
              "array([[ -35.17118835,  -31.35714531,  -44.58410263, ..., -207.15794373,\n",
              "        -232.7442627 , -244.66621399],\n",
              "       [ -29.77085304,  -26.38825798,  -42.14429855, ..., -167.30506897,\n",
              "        -146.85246277, -192.06391907],\n",
              "       [ -51.05919266,  -51.72984314,  -54.31179428, ...,  -94.12476349,\n",
              "         -60.68599701, -102.42050171],\n",
              "       ...,\n",
              "       [ -59.36830902,  -60.53302383,  -63.84210587, ..., -112.26236725,\n",
              "         -87.91725922, -125.79407501],\n",
              "       [ -45.00176239,  -44.70238113,  -47.18650818, ...,  -93.59251404,\n",
              "         -81.71409607, -104.35671997],\n",
              "       [ -28.09696007,  -20.2185688 ,  -29.90560341, ..., -143.83818054,\n",
              "        -188.14109802, -163.7539978 ]])"
            ]
          },
          "metadata": {},
          "execution_count": 5
        }
      ]
    },
    {
      "cell_type": "code",
      "source": [
        "y_train = dtrain['answer_bbox']\n",
        "train = []\n",
        "for i in y_train:\n",
        "  train.append(i)\n",
        "y_train = np.array(train)"
      ],
      "metadata": {
        "id": "BO0K_ePkEjn9"
      },
      "execution_count": null,
      "outputs": []
    },
    {
      "cell_type": "markdown",
      "source": [
        "#### For validation"
      ],
      "metadata": {
        "id": "PH2DDLzZFbUp"
      }
    },
    {
      "cell_type": "code",
      "source": [
        "import json\n",
        "import pandas as pd\n",
        "\n",
        "json_file_path = \"/content/drive/MyDrive/DVQA/question-answer/qa_attended_features/val.json\"\n",
        "\n",
        "with open(json_file_path, 'r') as j:\n",
        "     contents = json.loads(j.read())\n",
        "\n",
        "dval = pd.DataFrame(contents)"
      ],
      "metadata": {
        "id": "zTemTb1xE9wV"
      },
      "execution_count": null,
      "outputs": []
    },
    {
      "cell_type": "code",
      "source": [
        "X_val = dval['attended_features'].str[0]\n",
        "val = []\n",
        "for i in X_val:\n",
        "  val.append(i)\n",
        "X_val = np.array(val)"
      ],
      "metadata": {
        "id": "aBKxSfwoE9wV"
      },
      "execution_count": null,
      "outputs": []
    },
    {
      "cell_type": "code",
      "source": [
        "X_val"
      ],
      "metadata": {
        "colab": {
          "base_uri": "https://localhost:8080/"
        },
        "outputId": "f850cc2a-9e73-4f53-d2db-58bdef54c0d2",
        "id": "5MuiZ17CE9wV"
      },
      "execution_count": null,
      "outputs": [
        {
          "output_type": "execute_result",
          "data": {
            "text/plain": [
              "array([[ -37.48696899,  -37.75655746,  -40.20143509, ...,  -73.65563965,\n",
              "         -79.48516083,  -86.87966156],\n",
              "       [ -39.33940506,  -40.57651901,  -43.98202515, ...,  -74.1279068 ,\n",
              "         -79.26383209,  -87.80954742],\n",
              "       [ -35.8677597 ,  -37.50686264,  -49.40447235, ..., -127.8442688 ,\n",
              "        -157.21913147, -156.78884888],\n",
              "       ...,\n",
              "       [ -61.66205597,  -62.91182709,  -66.85939026, ..., -123.88307953,\n",
              "        -107.05649567, -140.29397583],\n",
              "       [ -44.30028534,  -44.18427658,  -46.52615738, ...,  -91.38368225,\n",
              "         -82.44355774, -102.36474609],\n",
              "       [ -24.93727875,  -17.13492393,  -27.56616974, ..., -128.75292969,\n",
              "        -184.42388916, -149.35096741]])"
            ]
          },
          "metadata": {},
          "execution_count": 9
        }
      ]
    },
    {
      "cell_type": "code",
      "source": [
        "y_val = dval['answer_bbox']\n",
        "val = []\n",
        "for i in y_val:\n",
        "  val.append(i)\n",
        "y_val = np.array(val)"
      ],
      "metadata": {
        "id": "7_eXjk-4E9wV"
      },
      "execution_count": null,
      "outputs": []
    },
    {
      "cell_type": "markdown",
      "source": [
        "#### For test"
      ],
      "metadata": {
        "id": "koiPtI9E2vHb"
      }
    },
    {
      "cell_type": "code",
      "source": [
        "import json\n",
        "import pandas as pd\n",
        "\n",
        "json_file_path = \"/content/drive/MyDrive/DVQA/question-answer/qa_attended_features/test.json\"\n",
        "\n",
        "with open(json_file_path, 'r') as j:\n",
        "     contents = json.loads(j.read())\n",
        "\n",
        "dtest = pd.DataFrame(contents)"
      ],
      "metadata": {
        "id": "cyOHNT8b2vHi"
      },
      "execution_count": null,
      "outputs": []
    },
    {
      "cell_type": "code",
      "source": [
        "X_test = dtest['attended_features'].str[0]\n",
        "test = []\n",
        "for i in X_test:\n",
        "  test.append(i)\n",
        "X_test = np.array(test)"
      ],
      "metadata": {
        "id": "TFNUvUjj2vHi"
      },
      "execution_count": null,
      "outputs": []
    },
    {
      "cell_type": "code",
      "source": [
        "X_test"
      ],
      "metadata": {
        "colab": {
          "base_uri": "https://localhost:8080/"
        },
        "outputId": "15e6b92e-a5c2-4920-de84-daeb9a737b15",
        "id": "3yrAxtAv2vHi"
      },
      "execution_count": null,
      "outputs": [
        {
          "output_type": "execute_result",
          "data": {
            "text/plain": [
              "array([[ -36.92976761,  -37.24534225,  -39.52371979, ...,  -71.08641815,\n",
              "         -73.89104462,  -83.12647247],\n",
              "       [ -35.62318039,  -37.64751816,  -50.90515518, ..., -132.98548889,\n",
              "        -163.05259705, -160.03053284],\n",
              "       [ -36.35834122,  -37.12150955,  -49.26860428, ..., -137.03108215,\n",
              "        -161.66175842, -164.15557861],\n",
              "       ...,\n",
              "       [ -63.05939102,  -64.07436371,  -68.45293427, ..., -126.33996582,\n",
              "        -106.1464386 , -140.50883484],\n",
              "       [ -41.05303574,  -40.32219315,  -42.59866714, ...,  -83.609375  ,\n",
              "         -82.36370087,  -94.25128937],\n",
              "       [ -23.66281319,  -17.68763733,  -26.33063698, ..., -118.27907562,\n",
              "        -165.71388245, -137.55984497]])"
            ]
          },
          "metadata": {},
          "execution_count": 8
        }
      ]
    },
    {
      "cell_type": "code",
      "source": [
        "y_test = dtest['answer_bbox']\n",
        "test = []\n",
        "for i in y_test:\n",
        "  test.append(i)\n",
        "y_test = np.array(test)"
      ],
      "metadata": {
        "id": "30mkFDjb2vHj"
      },
      "execution_count": null,
      "outputs": []
    },
    {
      "cell_type": "markdown",
      "metadata": {
        "id": "UVoc3RAvFqAa"
      },
      "source": [
        "### Training the model \n",
        "---"
      ]
    },
    {
      "cell_type": "code",
      "source": [
        "from tensorflow import keras\n",
        "from tensorflow.keras.models import Sequential\n",
        "from tensorflow.keras.callbacks import ModelCheckpoint, EarlyStopping\n",
        "from tensorflow.keras.layers import LSTM, Activation, Dense, Dropout, Input, Embedding, LeakyReLU"
      ],
      "metadata": {
        "id": "H16TIETrFqtH"
      },
      "execution_count": null,
      "outputs": []
    },
    {
      "cell_type": "code",
      "source": [
        "model = Sequential()\n",
        "model.add(Dense(128, input_dim=X_test.shape[1], kernel_initializer='he_uniform', activation=LeakyReLU(alpha=0.01)))\n",
        "model.add(Dense(64))\n",
        "model.add(Dense(4))\n",
        "model.compile(loss='mse', optimizer='adam')\n",
        "model.summary()"
      ],
      "metadata": {
        "colab": {
          "base_uri": "https://localhost:8080/"
        },
        "id": "aV-yhnyxGNnG",
        "outputId": "c43b456e-47d4-47ac-ce67-8ad8a66ba5e8"
      },
      "execution_count": null,
      "outputs": [
        {
          "output_type": "stream",
          "name": "stdout",
          "text": [
            "Model: \"sequential_1\"\n",
            "_________________________________________________________________\n",
            " Layer (type)                Output Shape              Param #   \n",
            "=================================================================\n",
            " dense (Dense)               (None, 128)               3584      \n",
            "                                                                 \n",
            " dense_1 (Dense)             (None, 64)                8256      \n",
            "                                                                 \n",
            " dense_2 (Dense)             (None, 4)                 260       \n",
            "                                                                 \n",
            "=================================================================\n",
            "Total params: 12,100\n",
            "Trainable params: 12,100\n",
            "Non-trainable params: 0\n",
            "_________________________________________________________________\n"
          ]
        }
      ]
    },
    {
      "cell_type": "code",
      "source": [
        "hist = model.fit(X_train,y_train,validation_data=(X_val,y_val),batch_size=32,epochs=100)"
      ],
      "metadata": {
        "id": "o0E26fvtfZJ9"
      },
      "execution_count": null,
      "outputs": []
    },
    {
      "cell_type": "code",
      "source": [
        "model.save_weights('regression_model.h5')"
      ],
      "metadata": {
        "id": "_JSapLd_RGP9"
      },
      "execution_count": null,
      "outputs": []
    },
    {
      "cell_type": "code",
      "source": [
        "model.load_weights('/content/drive/MyDrive/DVQA/Regression Model/regression_model.h5')"
      ],
      "metadata": {
        "id": "W2V2DIqlROB-"
      },
      "execution_count": null,
      "outputs": []
    },
    {
      "cell_type": "markdown",
      "metadata": {
        "id": "qIAteKKZO6Sk"
      },
      "source": [
        "### Evaluating the performance measure\n",
        "---"
      ]
    },
    {
      "cell_type": "code",
      "source": [
        "from PIL import Image\n",
        "img = Image.open('/content/drive/MyDrive/DVQA/Regression Model/Performance Measure.png').convert('RGB')\n",
        "plt.imshow(img)"
      ],
      "metadata": {
        "colab": {
          "base_uri": "https://localhost:8080/",
          "height": 286
        },
        "id": "BDSQQ8jefefr",
        "outputId": "cae58233-0135-4b17-dff3-9c8777c70270"
      },
      "execution_count": null,
      "outputs": [
        {
          "output_type": "execute_result",
          "data": {
            "text/plain": [
              "<matplotlib.image.AxesImage at 0x7fe15e258310>"
            ]
          },
          "metadata": {},
          "execution_count": 14
        },
        {
          "output_type": "display_data",
          "data": {
            "text/plain": [
              "<Figure size 432x288 with 1 Axes>"
            ],
            "image/png": "[encoded data removed]"
          },
          "metadata": {
            "needs_background": "light"
          }
        }
      ]
    },
    {
      "cell_type": "code",
      "source": [
        "mae = model.evaluate(X_test, y_test, verbose=0)\n",
        "print('>%.3f' % mae)"
      ],
      "metadata": {
        "colab": {
          "base_uri": "https://localhost:8080/"
        },
        "id": "bbwzHuN53yKk",
        "outputId": "49021c9c-0a5a-413a-95e4-e99fcf1e9a71"
      },
      "execution_count": null,
      "outputs": [
        {
          "output_type": "stream",
          "name": "stdout",
          "text": [
            ">6950.065\n"
          ]
        }
      ]
    },
    {
      "cell_type": "markdown",
      "metadata": {
        "id": "Eq2tZmOvfvXL"
      },
      "source": [
        "### Performing OCR within bounding box\n",
        "---"
      ]
    },
    {
      "cell_type": "code",
      "source": [
        "### Sample Number\n",
        "num = 13"
      ],
      "metadata": {
        "id": "LO0C7V4ngRQz"
      },
      "execution_count": null,
      "outputs": []
    },
    {
      "cell_type": "code",
      "source": [
        "test = X_test[num]\n",
        "test = np.resize(test, (1,27))\n",
        "test"
      ],
      "metadata": {
        "colab": {
          "base_uri": "https://localhost:8080/"
        },
        "id": "ubX1pFbrNgMo",
        "outputId": "34300a44-7f87-4748-e5d3-eb05564bd8b4"
      },
      "execution_count": null,
      "outputs": [
        {
          "output_type": "execute_result",
          "data": {
            "text/plain": [
              "array([[ -32.80073166,  -27.63332558,  -45.28879166,  -77.01376343,\n",
              "         -80.78464508, -111.99349213,  -70.9388504 ,  -62.04734039,\n",
              "         -76.81391144,  -69.27565765,  -79.00993347,  -73.12581635,\n",
              "         -74.28811646,  -86.06430054,  -79.31897736,  -78.90366364,\n",
              "         -93.80573273,  -82.33982086,  -80.85629272, -104.16552734,\n",
              "         -77.44907379,  -89.21320343, -101.69580841,  -94.43715668,\n",
              "        -177.95150757, -164.62767029, -205.83683777]])"
            ]
          },
          "metadata": {},
          "execution_count": 160
        }
      ]
    },
    {
      "cell_type": "code",
      "source": [
        "actual = y_test[num]\n",
        "actual"
      ],
      "metadata": {
        "colab": {
          "base_uri": "https://localhost:8080/"
        },
        "id": "wTUEIOdhNjU8",
        "outputId": "90096049-39d3-41b0-8107-527fbbc56cd4"
      },
      "execution_count": null,
      "outputs": [
        {
          "output_type": "execute_result",
          "data": {
            "text/plain": [
              "array([ 69.05597643, 402.2       ,  86.25      ,  39.        ])"
            ]
          },
          "metadata": {},
          "execution_count": 177
        }
      ]
    },
    {
      "cell_type": "code",
      "source": [
        "pred = model.predict(test)\n",
        "pred"
      ],
      "metadata": {
        "colab": {
          "base_uri": "https://localhost:8080/"
        },
        "id": "fEtattNbNmN-",
        "outputId": "24663d21-53c1-4f30-f419-a4e13651d9a0"
      },
      "execution_count": null,
      "outputs": [
        {
          "output_type": "execute_result",
          "data": {
            "text/plain": [
              "array([[118.13475 , 414.3667  ,  61.2319  ,  37.562958]], dtype=float32)"
            ]
          },
          "metadata": {},
          "execution_count": 162
        }
      ]
    },
    {
      "cell_type": "code",
      "source": [
        "dtest['question'][num]"
      ],
      "metadata": {
        "colab": {
          "base_uri": "https://localhost:8080/",
          "height": 35
        },
        "id": "TUBLVAjwgM-I",
        "outputId": "ad10b5a8-3259-4087-8ef3-9a5a78aca6ba"
      },
      "execution_count": null,
      "outputs": [
        {
          "output_type": "execute_result",
          "data": {
            "text/plain": [
              "'Which bar has the smallest value?'"
            ],
            "application/vnd.google.colaboratory.intrinsic+json": {
              "type": "string"
            }
          },
          "metadata": {},
          "execution_count": 163
        }
      ]
    },
    {
      "cell_type": "code",
      "source": [
        "image = Image.open('/content/images/test/' + str(dtest['image'][num])).convert('RGB')\n",
        "plt.imshow(image)\n",
        "plt.title('Question:  ' + dtest['question'][num])"
      ],
      "metadata": {
        "colab": {
          "base_uri": "https://localhost:8080/",
          "height": 298
        },
        "id": "JXvTe0Odgelz",
        "outputId": "187473c3-3f16-4fdd-d16a-2b46387f1aa2"
      },
      "execution_count": null,
      "outputs": [
        {
          "output_type": "execute_result",
          "data": {
            "text/plain": [
              "Text(0.5, 1.0, 'Question:  Which bar has the smallest value?')"
            ]
          },
          "metadata": {},
          "execution_count": 189
        },
        {
          "output_type": "display_data",
          "data": {
            "text/plain": [
              "<Figure size 432x288 with 1 Axes>"
            ],
            "image/png": "[encoded data removed]"
          },
          "metadata": {
            "needs_background": "light"
          }
        }
      ]
    },
    {
      "cell_type": "code",
      "source": [
        "import cv2\n",
        "filename = '/content/images/test/' + str(dtest['image'][num])\n",
        "image = cv2.imread(filename)"
      ],
      "metadata": {
        "id": "K9RmGytzhhY2"
      },
      "execution_count": null,
      "outputs": []
    },
    {
      "cell_type": "code",
      "source": [
        "(X, Y, W, H) = (int(actual[0]), int(actual[1]), int(actual[2]),  int(actual[3]))\n",
        "actual_box = image[Y:Y+H, X:X+W]"
      ],
      "metadata": {
        "id": "HbE0d57Ygrus"
      },
      "execution_count": null,
      "outputs": []
    },
    {
      "cell_type": "code",
      "source": [
        "(X, Y, W, H) = (int(pred[0][0]), int(pred[0][1]), int(pred[0][2]),  int(pred[0][3]))\n",
        "\n",
        "bounding_box = image[Y:Y+H, X:X+W]"
      ],
      "metadata": {
        "id": "4BLbaGq-mLur"
      },
      "execution_count": null,
      "outputs": []
    },
    {
      "cell_type": "code",
      "source": [
        "plt.imshow(actual_box)\n",
        "plt.title('Actual Answer')"
      ],
      "metadata": {
        "colab": {
          "base_uri": "https://localhost:8080/",
          "height": 233
        },
        "id": "N2m0FNnLmflC",
        "outputId": "0a2dd4f8-93a4-4ca0-e6af-244deadc9c97"
      },
      "execution_count": null,
      "outputs": [
        {
          "output_type": "execute_result",
          "data": {
            "text/plain": [
              "Text(0.5, 1.0, 'Actual Answer')"
            ]
          },
          "metadata": {},
          "execution_count": 183
        },
        {
          "output_type": "display_data",
          "data": {
            "text/plain": [
              "<Figure size 432x288 with 1 Axes>"
            ],
            "image/png": "[encoded data removed]"
          },
          "metadata": {
            "needs_background": "light"
          }
        }
      ]
    },
    {
      "cell_type": "code",
      "source": [
        "plt.imshow(bounding_box)\n",
        "plt.title('Predicted Answer')"
      ],
      "metadata": {
        "colab": {
          "base_uri": "https://localhost:8080/",
          "height": 268
        },
        "id": "5x0_P1nxhVTT",
        "outputId": "6446b3cc-7871-4313-f6b4-522a39f5a70a"
      },
      "execution_count": null,
      "outputs": [
        {
          "output_type": "execute_result",
          "data": {
            "text/plain": [
              "Text(0.5, 1.0, 'Predicted Answer')"
            ]
          },
          "metadata": {},
          "execution_count": 184
        },
        {
          "output_type": "display_data",
          "data": {
            "text/plain": [
              "<Figure size 432x288 with 1 Axes>"
            ],
            "image/png": "[encoded data removed]"
          },
          "metadata": {
            "needs_background": "light"
          }
        }
      ]
    },
    {
      "cell_type": "markdown",
      "source": [
        "#### Using OCR Pytesseract"
      ],
      "metadata": {
        "id": "rtJiXDmwlTQy"
      }
    },
    {
      "cell_type": "code",
      "source": [
        "!sudo apt install tesseract-ocr\n",
        "!pip install pytesseract"
      ],
      "metadata": {
        "id": "9NEQ1a-NlSqn"
      },
      "execution_count": null,
      "outputs": []
    },
    {
      "cell_type": "code",
      "source": [
        "import pytesseract\n",
        "extractedInformation = pytesseract.image_to_string(bounding_box)\n",
        "print(extractedInformation)"
      ],
      "metadata": {
        "colab": {
          "base_uri": "https://localhost:8080/"
        },
        "id": "ssTH-NBWjQBd",
        "outputId": "27dfb37a-af81-4b57-9003-820029ee8fc0"
      },
      "execution_count": null,
      "outputs": [
        {
          "output_type": "stream",
          "name": "stdout",
          "text": [
            "get\n",
            "\f\n"
          ]
        }
      ]
    }
  ],
  "metadata": {
    "kernelspec": {
      "display_name": "Python 3",
      "language": "python",
      "name": "python3"
    },
    "language_info": {
      "codemirror_mode": {
        "name": "ipython",
        "version": 3
      },
      "file_extension": ".py",
      "mimetype": "text/x-python",
      "name": "python",
      "nbconvert_exporter": "python",
      "pygments_lexer": "ipython3",
      "version": "3.6.5"
    },
    "colab": {
      "name": "Regression Model on Attended Features.ipynb",
      "provenance": [],
      "collapsed_sections": [
        "GAxCzZG_Spc_",
        "-eMlE0X2-1U0",
        "-qjJZjJsSc_6",
        "rN_huObg42bO",
        "QV0sVZ9-42jL",
        "lhGYNaGp5a5Z",
        "oFSkZM7BFUtd",
        "PH2DDLzZFbUp",
        "koiPtI9E2vHb",
        "UVoc3RAvFqAa",
        "qIAteKKZO6Sk"
      ]
    },
    "accelerator": "GPU",
    "gpuClass": "standard",
    "widgets": {
      "application/vnd.jupyter.widget-state+json": {
        "34751bdafa71401ca551f503c2b1ec6c": {
          "model_module": "@jupyter-widgets/controls",
          "model_name": "HBoxModel",
          "model_module_version": "1.5.0",
          "state": {
            "_dom_classes": [],
            "_model_module": "@jupyter-widgets/controls",
            "_model_module_version": "1.5.0",
            "_model_name": "HBoxModel",
            "_view_count": null,
            "_view_module": "@jupyter-widgets/controls",
            "_view_module_version": "1.5.0",
            "_view_name": "HBoxView",
            "box_style": "",
            "children": [
              "IPY_MODEL_375e84373d5648128295bc897b9e447f",
              "IPY_MODEL_5ff184b1b4a5477ea7b7cc9c1a46b9d0",
              "IPY_MODEL_b8c4ef4e733a4471a1db308f7f11ef88"
            ],
            "layout": "IPY_MODEL_d43396bf4ae9485fbef5ffda7f8a0bc9"
          }
        },
        "375e84373d5648128295bc897b9e447f": {
          "model_module": "@jupyter-widgets/controls",
          "model_name": "HTMLModel",
          "model_module_version": "1.5.0",
          "state": {
            "_dom_classes": [],
            "_model_module": "@jupyter-widgets/controls",
            "_model_module_version": "1.5.0",
            "_model_name": "HTMLModel",
            "_view_count": null,
            "_view_module": "@jupyter-widgets/controls",
            "_view_module_version": "1.5.0",
            "_view_name": "HTMLView",
            "description": "",
            "description_tooltip": null,
            "layout": "IPY_MODEL_07d42b0dba2a4dddb9a772a866501031",
            "placeholder": "​",
            "style": "IPY_MODEL_01f0b81603f74b139c4ab27e9add0748",
            "value": "100%"
          }
        },
        "5ff184b1b4a5477ea7b7cc9c1a46b9d0": {
          "model_module": "@jupyter-widgets/controls",
          "model_name": "FloatProgressModel",
          "model_module_version": "1.5.0",
          "state": {
            "_dom_classes": [],
            "_model_module": "@jupyter-widgets/controls",
            "_model_module_version": "1.5.0",
            "_model_name": "FloatProgressModel",
            "_view_count": null,
            "_view_module": "@jupyter-widgets/controls",
            "_view_module_version": "1.5.0",
            "_view_name": "ProgressView",
            "bar_style": "success",
            "description": "",
            "description_tooltip": null,
            "layout": "IPY_MODEL_4c27f67707774ebc9a5cbb0f0ddc3172",
            "max": 241520640,
            "min": 0,
            "orientation": "horizontal",
            "style": "IPY_MODEL_70f2c63840ac456591d3711e0f8629eb",
            "value": 241520640
          }
        },
        "b8c4ef4e733a4471a1db308f7f11ef88": {
          "model_module": "@jupyter-widgets/controls",
          "model_name": "HTMLModel",
          "model_module_version": "1.5.0",
          "state": {
            "_dom_classes": [],
            "_model_module": "@jupyter-widgets/controls",
            "_model_module_version": "1.5.0",
            "_model_name": "HTMLModel",
            "_view_count": null,
            "_view_module": "@jupyter-widgets/controls",
            "_view_module_version": "1.5.0",
            "_view_name": "HTMLView",
            "description": "",
            "description_tooltip": null,
            "layout": "IPY_MODEL_3ec670360a5143709f437e12b1d1aeed",
            "placeholder": "​",
            "style": "IPY_MODEL_bdb7cbc7fabf4f94b20ccc736baf0d46",
            "value": " 230M/230M [00:19&lt;00:00, 18.1MB/s]"
          }
        },
        "d43396bf4ae9485fbef5ffda7f8a0bc9": {
          "model_module": "@jupyter-widgets/base",
          "model_name": "LayoutModel",
          "model_module_version": "1.2.0",
          "state": {
            "_model_module": "@jupyter-widgets/base",
            "_model_module_version": "1.2.0",
            "_model_name": "LayoutModel",
            "_view_count": null,
            "_view_module": "@jupyter-widgets/base",
            "_view_module_version": "1.2.0",
            "_view_name": "LayoutView",
            "align_content": null,
            "align_items": null,
            "align_self": null,
            "border": null,
            "bottom": null,
            "display": null,
            "flex": null,
            "flex_flow": null,
            "grid_area": null,
            "grid_auto_columns": null,
            "grid_auto_flow": null,
            "grid_auto_rows": null,
            "grid_column": null,
            "grid_gap": null,
            "grid_row": null,
            "grid_template_areas": null,
            "grid_template_columns": null,
            "grid_template_rows": null,
            "height": null,
            "justify_content": null,
            "justify_items": null,
            "left": null,
            "margin": null,
            "max_height": null,
            "max_width": null,
            "min_height": null,
            "min_width": null,
            "object_fit": null,
            "object_position": null,
            "order": null,
            "overflow": null,
            "overflow_x": null,
            "overflow_y": null,
            "padding": null,
            "right": null,
            "top": null,
            "visibility": null,
            "width": null
          }
        },
        "07d42b0dba2a4dddb9a772a866501031": {
          "model_module": "@jupyter-widgets/base",
          "model_name": "LayoutModel",
          "model_module_version": "1.2.0",
          "state": {
            "_model_module": "@jupyter-widgets/base",
            "_model_module_version": "1.2.0",
            "_model_name": "LayoutModel",
            "_view_count": null,
            "_view_module": "@jupyter-widgets/base",
            "_view_module_version": "1.2.0",
            "_view_name": "LayoutView",
            "align_content": null,
            "align_items": null,
            "align_self": null,
            "border": null,
            "bottom": null,
            "display": null,
            "flex": null,
            "flex_flow": null,
            "grid_area": null,
            "grid_auto_columns": null,
            "grid_auto_flow": null,
            "grid_auto_rows": null,
            "grid_column": null,
            "grid_gap": null,
            "grid_row": null,
            "grid_template_areas": null,
            "grid_template_columns": null,
            "grid_template_rows": null,
            "height": null,
            "justify_content": null,
            "justify_items": null,
            "left": null,
            "margin": null,
            "max_height": null,
            "max_width": null,
            "min_height": null,
            "min_width": null,
            "object_fit": null,
            "object_position": null,
            "order": null,
            "overflow": null,
            "overflow_x": null,
            "overflow_y": null,
            "padding": null,
            "right": null,
            "top": null,
            "visibility": null,
            "width": null
          }
        },
        "01f0b81603f74b139c4ab27e9add0748": {
          "model_module": "@jupyter-widgets/controls",
          "model_name": "DescriptionStyleModel",
          "model_module_version": "1.5.0",
          "state": {
            "_model_module": "@jupyter-widgets/controls",
            "_model_module_version": "1.5.0",
            "_model_name": "DescriptionStyleModel",
            "_view_count": null,
            "_view_module": "@jupyter-widgets/base",
            "_view_module_version": "1.2.0",
            "_view_name": "StyleView",
            "description_width": ""
          }
        },
        "4c27f67707774ebc9a5cbb0f0ddc3172": {
          "model_module": "@jupyter-widgets/base",
          "model_name": "LayoutModel",
          "model_module_version": "1.2.0",
          "state": {
            "_model_module": "@jupyter-widgets/base",
            "_model_module_version": "1.2.0",
            "_model_name": "LayoutModel",
            "_view_count": null,
            "_view_module": "@jupyter-widgets/base",
            "_view_module_version": "1.2.0",
            "_view_name": "LayoutView",
            "align_content": null,
            "align_items": null,
            "align_self": null,
            "border": null,
            "bottom": null,
            "display": null,
            "flex": null,
            "flex_flow": null,
            "grid_area": null,
            "grid_auto_columns": null,
            "grid_auto_flow": null,
            "grid_auto_rows": null,
            "grid_column": null,
            "grid_gap": null,
            "grid_row": null,
            "grid_template_areas": null,
            "grid_template_columns": null,
            "grid_template_rows": null,
            "height": null,
            "justify_content": null,
            "justify_items": null,
            "left": null,
            "margin": null,
            "max_height": null,
            "max_width": null,
            "min_height": null,
            "min_width": null,
            "object_fit": null,
            "object_position": null,
            "order": null,
            "overflow": null,
            "overflow_x": null,
            "overflow_y": null,
            "padding": null,
            "right": null,
            "top": null,
            "visibility": null,
            "width": null
          }
        },
        "70f2c63840ac456591d3711e0f8629eb": {
          "model_module": "@jupyter-widgets/controls",
          "model_name": "ProgressStyleModel",
          "model_module_version": "1.5.0",
          "state": {
            "_model_module": "@jupyter-widgets/controls",
            "_model_module_version": "1.5.0",
            "_model_name": "ProgressStyleModel",
            "_view_count": null,
            "_view_module": "@jupyter-widgets/base",
            "_view_module_version": "1.2.0",
            "_view_name": "StyleView",
            "bar_color": null,
            "description_width": ""
          }
        },
        "3ec670360a5143709f437e12b1d1aeed": {
          "model_module": "@jupyter-widgets/base",
          "model_name": "LayoutModel",
          "model_module_version": "1.2.0",
          "state": {
            "_model_module": "@jupyter-widgets/base",
            "_model_module_version": "1.2.0",
            "_model_name": "LayoutModel",
            "_view_count": null,
            "_view_module": "@jupyter-widgets/base",
            "_view_module_version": "1.2.0",
            "_view_name": "LayoutView",
            "align_content": null,
            "align_items": null,
            "align_self": null,
            "border": null,
            "bottom": null,
            "display": null,
            "flex": null,
            "flex_flow": null,
            "grid_area": null,
            "grid_auto_columns": null,
            "grid_auto_flow": null,
            "grid_auto_rows": null,
            "grid_column": null,
            "grid_gap": null,
            "grid_row": null,
            "grid_template_areas": null,
            "grid_template_columns": null,
            "grid_template_rows": null,
            "height": null,
            "justify_content": null,
            "justify_items": null,
            "left": null,
            "margin": null,
            "max_height": null,
            "max_width": null,
            "min_height": null,
            "min_width": null,
            "object_fit": null,
            "object_position": null,
            "order": null,
            "overflow": null,
            "overflow_x": null,
            "overflow_y": null,
            "padding": null,
            "right": null,
            "top": null,
            "visibility": null,
            "width": null
          }
        },
        "bdb7cbc7fabf4f94b20ccc736baf0d46": {
          "model_module": "@jupyter-widgets/controls",
          "model_name": "DescriptionStyleModel",
          "model_module_version": "1.5.0",
          "state": {
            "_model_module": "@jupyter-widgets/controls",
            "_model_module_version": "1.5.0",
            "_model_name": "DescriptionStyleModel",
            "_view_count": null,
            "_view_module": "@jupyter-widgets/base",
            "_view_module_version": "1.2.0",
            "_view_name": "StyleView",
            "description_width": ""
          }
        }
      }
    }
  },
  "nbformat": 4,
  "nbformat_minor": 0
}